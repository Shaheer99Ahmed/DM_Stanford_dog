{
  "nbformat": 4,
  "nbformat_minor": 0,
  "metadata": {
    "colab": {
      "provenance": [],
      "include_colab_link": true
    },
    "kernelspec": {
      "name": "python3",
      "display_name": "Python 3"
    },
    "language_info": {
      "name": "python"
    }
  },
  "cells": [
    {
      "cell_type": "markdown",
      "metadata": {
        "id": "view-in-github",
        "colab_type": "text"
      },
      "source": [
        "<a href=\"https://colab.research.google.com/github/Shaheer99Ahmed/DM_Stanford_dog/blob/main/Assignment_4.ipynb\" target=\"_parent\"><img src=\"https://colab.research.google.com/assets/colab-badge.svg\" alt=\"Open In Colab\"/></a>"
      ]
    },
    {
      "cell_type": "code",
      "source": [
        "import pandas as pd\n",
        "import cv2\n",
        "import os\n",
        "import numpy as np\n",
        "import warnings\n",
        "from skimage.color import rgb2gray\n",
        "from skimage import io, exposure, filters\n",
        "from sklearn.preprocessing import StandardScaler\n",
        "from sklearn.decomposition import PCA\n",
        "from sklearn.cluster import KMeans, SpectralClustering, BisectingKMeans\n",
        "from sklearn.cluster import DBSCAN, AgglomerativeClustering\n",
        "from sklearn.metrics import fowlkes_mallows_score, silhouette_score"
      ],
      "metadata": {
        "id": "T-21T3zGSRwt"
      },
      "execution_count": 2,
      "outputs": []
    },
    {
      "cell_type": "code",
      "source": [
        "warnings.filterwarnings('ignore')"
      ],
      "metadata": {
        "id": "eiffVz1jSUaP"
      },
      "execution_count": 3,
      "outputs": []
    },
    {
      "cell_type": "markdown",
      "source": [
        "# Q1"
      ],
      "metadata": {
        "id": "fEuBKBXLZPLh"
      }
    },
    {
      "cell_type": "code",
      "source": [
        "def calculate_gradient_angle(dx, dy):\n",
        "    \"\"\"Calculate the angles between horizontal and vertical operators.\"\"\"\n",
        "    return np.mod(np.arctan2(dy, dx), np.pi)"
      ],
      "metadata": {
        "id": "DRJHGmZJSWnA"
      },
      "execution_count": 4,
      "outputs": []
    },
    {
      "cell_type": "code",
      "source": [
        "data_directory = \"/content/drive/MyDrive/Programming/processed\"\n",
        "\n",
        "labels = ['Siberian_husky', 'standard_poodle', 'Labrador_retriever', 'Cardigan']"
      ],
      "metadata": {
        "id": "DDhK9DirSYi7"
      },
      "execution_count": 9,
      "outputs": []
    },
    {
      "cell_type": "code",
      "source": [
        "df = pd.DataFrame(columns = list(range(0,36))+['class'])\n",
        "folders = os.listdir(data_directory)\n",
        "for folder in folders:\n",
        "  class_path = os.path.join(data_directory, folder)\n",
        "  for i, label in enumerate(labels):\n",
        "    if label.lower() == folder.split(\"-\")[-1].lower():\n",
        "      class_num = i\n",
        "  for filename in os.listdir(class_path):\n",
        "    img = io.imread(os.path.join(class_path,filename))\n",
        "    gray_image = rgb2gray(img)\n",
        "    angle_sobel = calculate_gradient_angle(filters.sobel_h(gray_image),\n",
        "                    filters.sobel_v(gray_image))\n",
        "    hist,bins = exposure.histogram(angle_sobel,nbins=36)\n",
        "    df.loc[len(df)] = list(hist)+[class_num]"
      ],
      "metadata": {
        "id": "b0FsqkeJSbuk"
      },
      "execution_count": 10,
      "outputs": []
    },
    {
      "cell_type": "code",
      "source": [
        "scaler = StandardScaler()\n",
        "scaler.fit(df[df.columns[:-1]])\n",
        "\n",
        "data = df[df.columns[:-1]]\n",
        "\n",
        "org_labels = np.array(df[df.columns[-1]])\n",
        "\n",
        "scaled_data = scaler.transform(data)\n",
        "\n"
      ],
      "metadata": {
        "id": "7pDG_I2FSebn"
      },
      "execution_count": 11,
      "outputs": []
    },
    {
      "cell_type": "markdown",
      "source": [
        "# Q2"
      ],
      "metadata": {
        "id": "tWqApKtXZSAv"
      }
    },
    {
      "cell_type": "code",
      "source": [
        "pca = PCA(n_components=2)\n",
        "\n",
        "transformed_data = pca.fit_transform(scaled_data)"
      ],
      "metadata": {
        "id": "ZBM0tJE2Sf02"
      },
      "execution_count": 12,
      "outputs": []
    },
    {
      "cell_type": "markdown",
      "source": [
        "# Q3"
      ],
      "metadata": {
        "id": "omYyIZOpZUXM"
      }
    },
    {
      "cell_type": "code",
      "execution_count": 13,
      "metadata": {
        "id": "c29yJ-WZSJyZ"
      },
      "outputs": [],
      "source": [
        "# K-means clustering with init='random'\n",
        "kmeans_random = KMeans(n_clusters=4, init='random', random_state=42)\n",
        "kmeans_random.fit(transformed_data)\n",
        "kmeans_random_labels = kmeans_random.labels_\n",
        "\n",
        "# K-means clustering with init='k-means++'\n",
        "kmeans_kmeans_pp = KMeans(n_clusters=4, init='k-means++', random_state=42)\n",
        "kmeans_kmeans_pp.fit(transformed_data)\n",
        "kmeans_kmeans_pp_labels = kmeans_kmeans_pp.labels_\n",
        "\n",
        "# Bisecting K-means clustering with init='random'\n",
        "bisecting_kmeans_random = BisectingKMeans(n_clusters=4, init='random', random_state=42)\n",
        "bisecting_kmeans_random.fit(transformed_data)\n",
        "bisecting_kmeans_random_labels = bisecting_kmeans_random.labels_\n",
        "\n",
        "# Spectral clustering with default parameters\n",
        "spectral_clustering = SpectralClustering(n_clusters=4, random_state=42)\n",
        "spectral_clustering.fit(transformed_data)\n",
        "spectral_clustering_labels = spectral_clustering.labels_\n",
        "\n",
        "# DBSCAN\n",
        "dbscan = DBSCAN(eps=0.5, min_samples=2)\n",
        "dbscan.fit(data)\n",
        "dbscan_labels = dbscan.labels_\n",
        "\n",
        "# Agglomerative clustering with different linkage methods\n",
        "agglomerative_single = AgglomerativeClustering(n_clusters=4, linkage='single')\n",
        "agglomerative_single.fit(data)\n",
        "agglomerative_single_labels = agglomerative_single.labels_\n",
        "\n",
        "agglomerative_complete = AgglomerativeClustering(n_clusters=4, linkage='complete')\n",
        "agglomerative_complete.fit(data)\n",
        "agglomerative_complete_labels = agglomerative_complete.labels_\n",
        "\n",
        "agglomerative_average = AgglomerativeClustering(n_clusters=4, linkage='average')\n",
        "agglomerative_average.fit(data)\n",
        "agglomerative_average_labels = agglomerative_average.labels_\n",
        "\n",
        "agglomerative_ward = AgglomerativeClustering(n_clusters=4, linkage='ward')\n",
        "agglomerative_ward.fit(data)\n",
        "agglomerative_ward_labels = agglomerative_ward.labels_\n",
        "\n"
      ]
    },
    {
      "cell_type": "markdown",
      "source": [
        "# Q4"
      ],
      "metadata": {
        "id": "SiSHh0UOZYPQ"
      }
    },
    {
      "cell_type": "code",
      "source": [
        "# Calculate Fowlkes-Mallows index\n",
        "fowlkes_mallows_scores = {\n",
        "    'K-means (Random)': fowlkes_mallows_score(org_labels, kmeans_random_labels),\n",
        "    'K-means (k-means++)': fowlkes_mallows_score(org_labels, kmeans_kmeans_pp_labels),\n",
        "    'Bisecting K-means': fowlkes_mallows_score(org_labels, bisecting_kmeans_random_labels),\n",
        "    'Spectral Clustering': fowlkes_mallows_score(org_labels, spectral_clustering_labels),\n",
        "    'DBSCAN': fowlkes_mallows_score(org_labels, dbscan_labels),\n",
        "    'Agglomerative (Single link)': fowlkes_mallows_score(org_labels, agglomerative_single_labels),\n",
        "    'Agglomerative (Complete link)': fowlkes_mallows_score(org_labels, agglomerative_complete_labels),\n",
        "    'Agglomerative (Group Average)': fowlkes_mallows_score(org_labels, agglomerative_average_labels),\n",
        "    'Agglomerative (Ward)': fowlkes_mallows_score(org_labels, agglomerative_ward_labels)\n",
        "}\n",
        "\n",
        "# Calculate Silhouette Coefficient\n",
        "silhouette_scores = {\n",
        "    'K-means (Random)': silhouette_score(transformed_data, kmeans_random_labels),\n",
        "    'K-means (k-means++)': silhouette_score(transformed_data, kmeans_kmeans_pp_labels),\n",
        "    'Bisecting K-means': silhouette_score(transformed_data, bisecting_kmeans_random_labels),\n",
        "    'Spectral Clustering': silhouette_score(transformed_data, spectral_clustering_labels),\n",
        "    'DBSCAN': silhouette_score(transformed_data, dbscan_labels),\n",
        "    'Agglomerative (Single link)': silhouette_score(transformed_data, agglomerative_single_labels),\n",
        "    'Agglomerative (Complete link)': silhouette_score(transformed_data, agglomerative_complete_labels),\n",
        "    'Agglomerative (Group Average)': silhouette_score(transformed_data, agglomerative_average_labels),\n",
        "    'Agglomerative (Ward)': silhouette_score(transformed_data, agglomerative_ward_labels)\n",
        "}\n",
        "\n"
      ],
      "metadata": {
        "id": "ZwSm6ul6Skik"
      },
      "execution_count": 15,
      "outputs": []
    },
    {
      "cell_type": "code",
      "source": [
        "# Rank methods based on Fowlkes-Mallows index\n",
        "ranked_methods_fm = sorted(fowlkes_mallows_scores.items(), key=lambda x: x[1], reverse=True)\n",
        "print(\"Ranking based on Fowlkes-Mallows index:\")\n",
        "for method, score in ranked_methods_fm:\n",
        "    print(f\"{method}: {score}\")\n"
      ],
      "metadata": {
        "colab": {
          "base_uri": "https://localhost:8080/"
        },
        "id": "WeTG7YyvZHMV",
        "outputId": "32c2263d-ca6b-4520-9e26-0257ebc3af25"
      },
      "execution_count": 16,
      "outputs": [
        {
          "output_type": "stream",
          "name": "stdout",
          "text": [
            "Ranking based on Fowlkes-Mallows index:\n",
            "DBSCAN: 0.4982815670190997\n",
            "Agglomerative (Single link): 0.4958390207231301\n",
            "Spectral Clustering: 0.4765562700639019\n",
            "Agglomerative (Group Average): 0.44288768592608524\n",
            "Agglomerative (Complete link): 0.4425895900845734\n",
            "Agglomerative (Ward): 0.36458731225346563\n",
            "Bisecting K-means: 0.2949673434880343\n",
            "K-means (Random): 0.28784719045763774\n",
            "K-means (k-means++): 0.28784719045763774\n"
          ]
        }
      ]
    },
    {
      "cell_type": "code",
      "source": [
        "# Rank methods based on Silhouette Coefficient\n",
        "ranked_methods_silhouette = sorted(silhouette_scores.items(), key=lambda x: x[1], reverse=True)\n",
        "print(\"\\nRanking based on Silhouette Coefficient:\")\n",
        "for method, score in ranked_methods_silhouette:\n",
        "    print(f\"{method}: {score}\")"
      ],
      "metadata": {
        "colab": {
          "base_uri": "https://localhost:8080/"
        },
        "id": "wEUqWhjnZMGQ",
        "outputId": "f6490ce8-cf57-478d-909b-beb7f1da953b"
      },
      "execution_count": 17,
      "outputs": [
        {
          "output_type": "stream",
          "name": "stdout",
          "text": [
            "\n",
            "Ranking based on Silhouette Coefficient:\n",
            "DBSCAN: 0.6154800250173642\n",
            "Agglomerative (Complete link): 0.44665335778274434\n",
            "K-means (Random): 0.4096538129862776\n",
            "K-means (k-means++): 0.4096538129862776\n",
            "Agglomerative (Group Average): 0.3990161790872444\n",
            "Bisecting K-means: 0.39500515162211725\n",
            "Spectral Clustering: 0.36168444109441594\n",
            "Agglomerative (Ward): 0.33802047370107563\n",
            "Agglomerative (Single link): 0.07203857270553599\n"
          ]
        }
      ]
    },
    {
      "cell_type": "code",
      "source": [],
      "metadata": {
        "id": "_diTPTL7ZNUh"
      },
      "execution_count": null,
      "outputs": []
    }
  ]
}